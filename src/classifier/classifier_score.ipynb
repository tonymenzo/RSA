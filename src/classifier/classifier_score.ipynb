{
 "cells": [
  {
   "cell_type": "code",
   "execution_count": null,
   "id": "117fd351-05b9-4ea9-b614-3e034e9e5740",
   "metadata": {
    "tags": []
   },
   "outputs": [],
   "source": [
    "import torch\n",
    "import numpy as np\n",
    "import matplotlib.pyplot as plt\n",
    "\n",
    "from deepsets_classifier import *"
   ]
  },
  {
   "cell_type": "code",
   "execution_count": null,
   "id": "89b32a16",
   "metadata": {},
   "outputs": [],
   "source": [
    "# Load hadron and accept-reject data\n",
    "exp_hadrons_PATH = '../../data/structured_data/pgun_qqbar_hadrons_a_0.68_b_0.98_sigma_0.335_N_1e4.npy'\n",
    "sim_hadrons_PATH = '../../data/structured_data/pgun_qqbar_hadrons_a_0.72_b_0.88_sigma_0.335_N_1e4.npy'"
   ]
  },
  {
   "cell_type": "code",
   "execution_count": 3,
   "id": "41b81334",
   "metadata": {},
   "outputs": [],
   "source": [
    "def prescale(exp_data, sim_data, axes=(0, 1)):\n",
    "    \"\"\"\n",
    "    Prescale the experimental and simulated data using the combined mean and standard deviation.\n",
    "\n",
    "    Args:\n",
    "        exp_data (np.ndarray): The experimental data.\n",
    "        sim_data (np.ndarray): The simulated data.\n",
    "        axes (tuple): The axes along which to calculate the mean and standard deviation.\n",
    "\n",
    "    Returns:\n",
    "        np.ndarrays: The prescaled experimental and simulated data.\n",
    "    \"\"\"\n",
    "    # Mask to identify non-padded entries (i.e., entries that are not [0.0, 0.0, 0.0, 0.0])\n",
    "    non_padded_mask_exp = ~(np.all(exp_data == 0, axis=-1))\n",
    "    non_padded_mask_sim = ~(np.all(sim_data == 0, axis=-1))\n",
    "    \n",
    "    # Flatten the non-padded parts of the datasets along the specified axes for mean/std calculation\n",
    "    combined_data = np.concatenate([exp_data[non_padded_mask_exp], sim_data[non_padded_mask_sim]], axis=0)\n",
    "    combined_mean = combined_data.mean(axis=0)\n",
    "    print(\"Mean:\", combined_mean)\n",
    "    combined_std = combined_data.std(axis=0)\n",
    "\n",
    "    # Scale only the non-padded entries using the combined mean and std\n",
    "    exp_data_scaled = np.copy(exp_data)\n",
    "    sim_data_scaled = np.copy(sim_data)\n",
    "    exp_data_scaled[non_padded_mask_exp] = (exp_data[non_padded_mask_exp] - combined_mean) / combined_std\n",
    "    sim_data_scaled[non_padded_mask_sim] = (sim_data[non_padded_mask_sim] - combined_mean) / combined_std\n",
    "    \n",
    "    return exp_data_scaled, sim_data_scaled"
   ]
  },
  {
   "cell_type": "code",
   "execution_count": 5,
   "id": "973afa9e-30b7-4bc2-afbc-e21c171a64b7",
   "metadata": {
    "tags": []
   },
   "outputs": [
    {
     "name": "stdout",
     "output_type": "stream",
     "text": [
      "Experimental hadron data shape: (10000, 75, 5)\n",
      "Simulated hadron data shape: (10000, 75, 5)\n",
      "Max multiplicity: 29\n",
      "Experimental observable shape: (10000, 29, 3)\n",
      "Simulated observable shape: (10000, 29, 3)\n",
      "Mean: [ 0.40791564 -0.00370054  0.57467334]\n"
     ]
    }
   ],
   "source": [
    "# Load the hadron data\n",
    "exp_hadrons = np.load(exp_hadrons_PATH, mmap_mode=\"r\")\n",
    "sim_hadrons = np.load(sim_hadrons_PATH, mmap_mode=\"r\")\n",
    "\n",
    "print('Experimental hadron data shape:', exp_hadrons.shape)\n",
    "print('Simulated hadron data shape:', sim_hadrons.shape)\n",
    "\n",
    "# Extract the hadron multiplicity\n",
    "N = 10000\n",
    "exp_mult = np.array([len(exp_hadrons[i,:][np.abs(exp_hadrons[i,:,0]) > 0.0]) for i in range(N)])\n",
    "sim_mult = np.array([len(sim_hadrons[i,:][np.abs(sim_hadrons[i,:,0]) > 0.0]) for i in range(N)])\n",
    "\n",
    "# Find the maximum multiplicity\n",
    "min_mult = min(exp_mult.min(), sim_mult.min())\n",
    "max_mult = max(exp_mult.max(), sim_mult.max())\n",
    "print(\"Max multiplicity:\", max_mult)\n",
    "\n",
    "# Resize the zero-padding to the maximum multiplicity\n",
    "exp_hadrons = exp_hadrons[:, :max_mult, :]\n",
    "sim_hadrons = sim_hadrons[:, :max_mult, :]\n",
    "\n",
    "# Extract (px, py, pz)\n",
    "px_exp, py_exp, pz_exp = exp_hadrons[..., 0], exp_hadrons[..., 1], exp_hadrons[..., 2]\n",
    "px_sim, py_sim, pz_sim = sim_hadrons[..., 0], sim_hadrons[..., 1], sim_hadrons[..., 2]\n",
    "\n",
    "# Create masks for non-zero momentum entries\n",
    "mask_exp = (px_exp != 0) | (py_exp != 0) | (pz_exp != 0)\n",
    "mask_sim = (px_sim != 0) | (py_sim != 0) | (pz_sim != 0)\n",
    "\n",
    "# Calculate transverse momentum (pT)\n",
    "pt_exp = np.sqrt(px_exp**2 + py_exp**2)\n",
    "pt_sim = np.sqrt(px_sim**2 + py_sim**2)\n",
    "\n",
    "# Initialize arrays for the results with zeros\n",
    "phi_exp = np.zeros_like(pt_exp)\n",
    "phi_sim = np.zeros_like(pt_sim)\n",
    "eta_exp = np.zeros_like(pt_exp)\n",
    "eta_sim = np.zeros_like(pt_sim)\n",
    "\n",
    "# Apply the calculations only where the mask is True (non-zero momentum)\n",
    "phi_exp[mask_exp] = np.arctan2(py_exp[mask_exp], px_exp[mask_exp])\n",
    "phi_sim[mask_sim] = np.arctan2(py_sim[mask_sim], px_sim[mask_sim])\n",
    "\n",
    "theta_exp = np.arctan2(pt_exp[mask_exp], pz_exp[mask_exp])\n",
    "theta_sim = np.arctan2(pt_sim[mask_sim], pz_sim[mask_sim])\n",
    "\n",
    "eta_exp[mask_exp] = -np.log(np.tan(theta_exp / 2))\n",
    "eta_sim[mask_sim] = -np.log(np.tan(theta_sim / 2))\n",
    "\n",
    "# Define the new angular observable array (pT, phi, eta)\n",
    "exp_obs = np.stack([pt_exp, phi_exp, eta_exp], axis=-1)\n",
    "sim_obs = np.stack([pt_sim, phi_sim, eta_sim], axis=-1)\n",
    "\n",
    "# Print dataset shapes\n",
    "print('Experimental observable shape:', exp_obs.shape)\n",
    "print('Simulated observable shape:', sim_obs.shape)\n",
    "\n",
    "# Prescale the data\n",
    "N_events = int(10000)\n",
    "exp_obs, sim_obs = prescale(exp_obs[0:N_events], sim_obs[0:N_events])\n",
    "\n",
    "# Convert into torch objects\n",
    "exp_obs = torch.Tensor(exp_obs.copy())\n",
    "sim_obs = torch.Tensor(sim_obs.copy())"
   ]
  },
  {
   "cell_type": "code",
   "execution_count": 6,
   "id": "77d84b2a-c3a6-46b3-8493-5d77206692e8",
   "metadata": {
    "tags": []
   },
   "outputs": [
    {
     "name": "stdout",
     "output_type": "stream",
     "text": [
      "Number of learnable parameters: 11671\n"
     ]
    },
    {
     "data": {
      "text/plain": [
       "<All keys matched successfully>"
      ]
     },
     "execution_count": 6,
     "metadata": {},
     "output_type": "execute_result"
    }
   ],
   "source": [
    "# Define the DeepSets classifier hyperparameters (that match the pre-trained model)\n",
    "input_dim      = 3\n",
    "phi_hidden_dim = 32\n",
    "rho_hidden_dim = 63\n",
    "phi_layers     = 5\n",
    "rho_layers     = 3\n",
    "dropout_prob   = 0.5\n",
    "mask_pad       = True\n",
    "device         = 'cpu'\n",
    "\n",
    "# Initialize the DeepSets classifier\n",
    "classifier = DeepSetsClassifier(input_dim=input_dim, phi_hidden_dim=phi_hidden_dim, rho_hidden_dim=rho_hidden_dim,\n",
    "                                phi_layers=phi_layers, rho_layers=rho_layers, device=device,\n",
    "                                dropout_prob=dropout_prob, mask_pad=mask_pad).to(device)\n",
    "\n",
    "# Load the pre-trained model\n",
    "classifier.load_state_dict(torch.load(\"model/deepsets_classifier.pth\", map_location=torch.device('cpu')))"
   ]
  },
  {
   "cell_type": "code",
   "execution_count": null,
   "id": "f33583fb",
   "metadata": {},
   "outputs": [
    {
     "name": "stdout",
     "output_type": "stream",
     "text": [
      "cpu\n",
      "cpu\n"
     ]
    },
    {
     "data": {
      "image/png": "[encoded data removed]",
      "text/plain": [
       "<Figure size 640x480 with 1 Axes>"
      ]
     },
     "metadata": {},
     "output_type": "display_data"
    }
   ],
   "source": [
    "# Set to eval mode\n",
    "classifier.eval()\n",
    "\n",
    "# Extract the scores\n",
    "exp_scores = torch.sigmoid(classifier.forward(exp_obs[:N_events], device=\"cpu\")).to(device).detach()\n",
    "sim_scores = torch.sigmoid(classifier.forward(sim_obs[:N_events], device=\"cpu\")).to(device).detach()\n",
    "\n",
    "# Plot the classifier scores\n",
    "fig, ax = plt.subplots(1,1)\n",
    "ax.hist(exp_scores.cpu().numpy(), bins=75, histtype='stepfilled', label='Experimental', color='gray', alpha=0.3)\n",
    "ax.hist(sim_scores.cpu().numpy(), bins=75, histtype='step', label=r'Simulated ($\\mathtt{Model}$ $\\mathtt{1}$)', color='red')\n",
    "ax.set_xlabel(r'Classifier score $\\mathcal{S}$')\n",
    "ax.set_ylabel('Density')\n",
    "ax.legend(frameon=False)\n",
    "fig.tight_layout()"
   ]
  },
  {
   "cell_type": "code",
   "execution_count": null,
   "id": "dd586a11",
   "metadata": {},
   "outputs": [],
   "source": []
  }
 ],
 "metadata": {
  "kernelspec": {
   "display_name": "hadronization_mlrw",
   "language": "python",
   "name": "python3"
  },
  "language_info": {
   "codemirror_mode": {
    "name": "ipython",
    "version": 3
   },
   "file_extension": ".py",
   "mimetype": "text/x-python",
   "name": "python",
   "nbconvert_exporter": "python",
   "pygments_lexer": "ipython3",
   "version": "3.12.2"
  }
 },
 "nbformat": 4,
 "nbformat_minor": 5
}
