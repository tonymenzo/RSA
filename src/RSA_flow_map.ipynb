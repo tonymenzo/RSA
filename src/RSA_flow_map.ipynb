{
 "cells": [
  {
   "cell_type": "code",
   "execution_count": 2,
   "metadata": {},
   "outputs": [],
   "source": [
    "from RSA_tuner import *"
   ]
  },
  {
   "cell_type": "code",
   "execution_count": 3,
   "metadata": {},
   "outputs": [],
   "source": [
    "class ObservableDataset(Dataset):\n",
    "\t\"\"\"\n",
    "\tConverts observable dataset into PyTorch syntax.\n",
    "\t\"\"\"\n",
    "\tdef __init__(self, data):\n",
    "\t\tself.data = data\n",
    "\n",
    "\tdef __len__(self):\n",
    "\t\treturn self.data.shape[0]\n",
    "\n",
    "\tdef __getitem__(self, idx):\n",
    "\t\tsample = self.data[idx]\n",
    "\t\treturn sample"
   ]
  },
  {
   "cell_type": "code",
   "execution_count": 4,
   "metadata": {},
   "outputs": [],
   "source": [
    "def a_b_grid(x_range, y_range, n_points):\n",
    "    \"\"\"\n",
    "    Creates a grid of values within a two-dimensional range and returns it in a flattened tensor.\n",
    "\n",
    "    Parameters:\n",
    "    x_range (tuple): A tuple of (min, max) for the x-axis range.\n",
    "    y_range (tuple): A tuple of (min, max) for the y-axis range.\n",
    "    steps (int): --- The number of steps/points in each dimension.\n",
    "\n",
    "    Returns:\n",
    "    torch.Tensor: A flattened tensor containing all the grid points.\n",
    "    \"\"\"\n",
    "    # Create linearly spaced points for each range\n",
    "    x_points = torch.linspace(x_range[0], x_range[1], n_points)\n",
    "    y_points = torch.linspace(y_range[0], y_range[1], n_points)\n",
    "\n",
    "    # Create a meshgrid from the x and y points\n",
    "    x_grid, y_grid = torch.meshgrid(x_points, y_points, indexing='ij')\n",
    "\n",
    "    # Flatten the grid and stack the coordinates\n",
    "    grid_flattened = torch.stack([x_grid.flatten(), y_grid.flatten()], dim=1)\n",
    "\n",
    "    return grid_flattened"
   ]
  },
  {
   "cell_type": "code",
   "execution_count": 7,
   "metadata": {},
   "outputs": [
    {
     "name": "stdout",
     "output_type": "stream",
     "text": [
      "Experimental observable shape: (10000, 75, 5)\n",
      "Simulated observable shape: (10000, 75, 5)\n",
      "Simulated z shape: (10000, 105, 101)\n",
      "Simulated fPrel shape: (10000, 105, 100)\n",
      "Experimental multiplicity shape: torch.Size([10000])\n",
      "Simulated multiplicity shape: torch.Size([10000])\n",
      "Simulated z shape: torch.Size([10000, 105, 101])\n",
      "Simulated fPrel shape: torch.Size([10000, 105, 100])\n"
     ]
    }
   ],
   "source": [
    "# Paths to the datasets\n",
    "exp_hadrons_PATH       = '../data/structured_data/pgun_qqbar_hadrons_a_0.68_b_0.98_sigma_0.335_N_1e4.npy'\n",
    "sim_hadrons_PATH       = '../data/structured_data/pgun_qqbar_hadrons_a_0.72_b_0.88_sigma_0.335_N_1e4.npy'\n",
    "sim_accept_reject_PATH = '../data/structured_data/pgun_qqbar_mT2_accept_reject_a_0.72_b_0.88_sigma_0.335_N_1e4.npy'\n",
    "sim_fPrel_PATH         = '../data/structured_data/pgun_qqbar_fPrel_a_0.72_b_0.88_sigma_0.335_N_1e4.npy'\n",
    "\n",
    "# Load the arrays\n",
    "exp_hadrons       = np.load(exp_hadrons_PATH, mmap_mode=\"r\")\n",
    "sim_hadrons       = np.load(sim_hadrons_PATH, mmap_mode=\"r\")\n",
    "sim_accept_reject = np.load(sim_accept_reject_PATH, mmap_mode = \"r\")\n",
    "sim_fPrel         = np.load(sim_fPrel_PATH, mmap_mode = \"r\")\n",
    "\n",
    "# Print dataset shapes\n",
    "print('Experimental observable shape:', exp_hadrons.shape)\n",
    "print('Simulated observable shape:', sim_hadrons.shape)\n",
    "print('Simulated z shape:', sim_accept_reject.shape)\n",
    "print('Simulated fPrel shape:', sim_fPrel.shape)\n",
    "\n",
    "# Restrict to a subset of the full dataset (for memory)\n",
    "N_events = int(10000)\n",
    "\n",
    "# Extract the hadron multiplicity\n",
    "exp_mult = np.array([len(exp_hadrons[i,:][np.abs(exp_hadrons[i,:,0]) > 0.0]) for i in range(N_events)])\n",
    "sim_mult = np.array([len(sim_hadrons[i,:][np.abs(sim_hadrons[i,:,0]) > 0.0]) for i in range(N_events)])\n",
    "\n",
    "# Convert into torch objects\n",
    "sim_mult          = torch.Tensor(sim_mult[0:N_events].copy())\n",
    "sim_accept_reject = torch.Tensor(sim_accept_reject[0:N_events].copy())\n",
    "sim_fPrel         = torch.Tensor(sim_fPrel[0:N_events].copy())\n",
    "exp_mult          = torch.Tensor(exp_mult[0:N_events].copy())\n",
    "\n",
    "# Check the accepted z-values, if z == 1 reduce it by epsilon (a very nasty bug to find).\n",
    "# The a-coefficient when computing the likelihood has a term proportional to log(1-z). If \n",
    "# z = 1, this term diverges to -inf and completely destroys the backward pass.\n",
    "epsilon = 1e-5\n",
    "sim_accept_reject[sim_accept_reject == 1] = 1 - epsilon\n",
    "\n",
    "# Print dataset shapes\n",
    "print('Experimental multiplicity shape:', exp_mult.shape)\n",
    "print('Simulated multiplicity shape:', sim_mult.shape)\n",
    "print('Simulated z shape:', sim_accept_reject.shape)\n",
    "print('Simulated fPrel shape:', sim_fPrel.shape)\n",
    "\n",
    "# Prepare data for DataLoader\n",
    "sim_mult          = ObservableDataset(sim_mult)\n",
    "sim_accept_reject = ObservableDataset(sim_accept_reject)\n",
    "sim_mT            = ObservableDataset(sim_fPrel)\n",
    "exp_mult          = ObservableDataset(exp_mult)"
   ]
  },
  {
   "cell_type": "code",
   "execution_count": 8,
   "metadata": {},
   "outputs": [],
   "source": [
    "# Set batch size -- set it eqaul to the number of events, we only want one 'batch'\n",
    "batch_size = N_events\n",
    "\n",
    "# Initialize data-loaders\n",
    "sim_observable_dataloader    = DataLoader(sim_mult,          batch_size = batch_size, shuffle = False)\n",
    "sim_accept_reject_dataloader = DataLoader(sim_accept_reject, batch_size = batch_size, shuffle = False)\n",
    "sim_fPrel_dataloader         = DataLoader(sim_fPrel,         batch_size = batch_size, shuffle = False)\n",
    "exp_observable_dataloader    = DataLoader(exp_mult,          batch_size = batch_size, shuffle = False)"
   ]
  },
  {
   "cell_type": "code",
   "execution_count": 9,
   "metadata": {},
   "outputs": [
    {
     "name": "stdout",
     "output_type": "stream",
     "text": [
      "Size of sim_observable_dataloader: 10000\n",
      "Size of sim_accept_reject_dataloader: 10000\n",
      "Size of sim_fPrel_dataloader: 10000\n",
      "Size of exp_observable_dataloader: 10000\n"
     ]
    }
   ],
   "source": [
    "print('Size of sim_observable_dataloader:', len(sim_observable_dataloader.dataset))\n",
    "print('Size of sim_accept_reject_dataloader:', len(sim_accept_reject_dataloader.dataset))\n",
    "print('Size of sim_fPrel_dataloader:', len(sim_fPrel_dataloader.dataset))\n",
    "print('Size of exp_observable_dataloader:', len(exp_observable_dataloader.dataset))"
   ]
  },
  {
   "cell_type": "code",
   "execution_count": 10,
   "metadata": {},
   "outputs": [
    {
     "name": "stdout",
     "output_type": "stream",
     "text": [
      "Each event has been zero-padded to a length of 105\n",
      "Each emission has been zero-padded to a length of 101\n"
     ]
    }
   ],
   "source": [
    "# Training hyperparameters\n",
    "over_sample_factor = 10.0\n",
    "# The flow map will be dependent on the learning rate (size of the gradients)\n",
    "learning_rate = 0.01\n",
    "fixed_binning = True\n",
    "# Length of event buffer\n",
    "dim_multiplicity  = sim_accept_reject_dataloader.dataset.data.shape[1]\n",
    "dim_accept_reject = sim_accept_reject_dataloader.dataset.data.shape[2]\n",
    "\n",
    "print('Each event has been zero-padded to a length of', dim_multiplicity)\n",
    "print('Each emission has been zero-padded to a length of', dim_accept_reject)\n",
    "\n",
    "# Define base parameters of simulated data (a, b)\n",
    "params_base = torch.tensor([0.72, 0.88])\n",
    "# Define a grid of initial parameters\n",
    "a_range  = (0.6-0.1, 0.80+0.1)#(0.6, 0.80)\n",
    "b_range  = (0.85-0.1, 1.05+0.1)#(0.85, 1.05)\n",
    "n_points = 5\n",
    "a_b_init = a_b_grid(a_range, b_range, n_points)"
   ]
  },
  {
   "cell_type": "code",
   "execution_count": 11,
   "metadata": {},
   "outputs": [
    {
     "name": "stdout",
     "output_type": "stream",
     "text": [
      "Initial a_b grid shape: torch.Size([25, 2])\n"
     ]
    }
   ],
   "source": [
    "print('Initial a_b grid shape:', a_b_init.shape)"
   ]
  },
  {
   "cell_type": "code",
   "execution_count": null,
   "metadata": {},
   "outputs": [],
   "source": [
    "# Irrelevant parameters for the flow plot that must be initialized for the RSA class\n",
    "epochs = 1\n",
    "\n",
    "# Create an RSA instance\n",
    "RSA = RSA_tuner(epochs = epochs, dim_multiplicity = dim_multiplicity, dim_accept_reject = dim_accept_reject, over_sample_factor = over_sample_factor,\n",
    "\t\t\t\tparams_base = params_base, sim_observable_dataloader = sim_observable_dataloader, sim_z_dataloader = sim_accept_reject_dataloader, \n",
    "\t\t\t\tsim_fPrel_dataloader = sim_fPrel_dataloader, exp_observable_dataloader = exp_observable_dataloader, print_details = False, \n",
    "\t\t\t\tresults_dir = None, params_init = None, fixed_binning = True)"
   ]
  },
  {
   "cell_type": "code",
   "execution_count": 14,
   "metadata": {},
   "outputs": [
    {
     "name": "stderr",
     "output_type": "stream",
     "text": [
      "  4%|██▌                                                             | 1/25 [00:15<06:03, 15.14s/it]"
     ]
    },
    {
     "name": "stdout",
     "output_type": "stream",
     "text": [
      "----------------------------------------------\n",
      "Loss: 0.005844633361290216\n",
      "a: 0.5\n",
      "Gradient of a: 0.018784303\n",
      "b: 0.75\n",
      "Gradient of b: -0.03179638\n",
      "----------------------------------------------\n"
     ]
    },
    {
     "name": "stderr",
     "output_type": "stream",
     "text": [
      "  8%|█████                                                           | 2/25 [00:28<05:18, 13.84s/it]"
     ]
    },
    {
     "name": "stdout",
     "output_type": "stream",
     "text": [
      "----------------------------------------------\n",
      "Loss: 0.0189405541775648\n",
      "a: 0.5\n",
      "Gradient of a: -0.43576685\n",
      "b: 0.85\n",
      "Gradient of b: 0.33866644\n",
      "----------------------------------------------\n"
     ]
    },
    {
     "name": "stderr",
     "output_type": "stream",
     "text": [
      " 12%|███████▋                                                        | 3/25 [00:39<04:43, 12.91s/it]"
     ]
    },
    {
     "name": "stdout",
     "output_type": "stream",
     "text": [
      "----------------------------------------------\n",
      "Loss: 0.07651587523829628\n",
      "a: 0.5\n",
      "Gradient of a: -1.0734131\n",
      "b: 0.95\n",
      "Gradient of b: 0.80584884\n",
      "----------------------------------------------\n"
     ]
    },
    {
     "name": "stderr",
     "output_type": "stream",
     "text": [
      " 16%|██████████▏                                                     | 4/25 [00:50<04:12, 12.03s/it]"
     ]
    },
    {
     "name": "stdout",
     "output_type": "stream",
     "text": [
      "----------------------------------------------\n",
      "Loss: 0.17937201654873092\n",
      "a: 0.5\n",
      "Gradient of a: -1.854564\n",
      "b: 1.05\n",
      "Gradient of b: 1.2690147\n",
      "----------------------------------------------\n"
     ]
    },
    {
     "name": "stderr",
     "output_type": "stream",
     "text": [
      " 20%|████████████▊                                                   | 5/25 [01:03<04:07, 12.36s/it]"
     ]
    },
    {
     "name": "stdout",
     "output_type": "stream",
     "text": [
      "----------------------------------------------\n",
      "Loss: 0.33451277086596215\n",
      "a: 0.5\n",
      "Gradient of a: -2.8786476\n",
      "b: 1.15\n",
      "Gradient of b: 1.8329693\n",
      "----------------------------------------------\n"
     ]
    },
    {
     "name": "stderr",
     "output_type": "stream",
     "text": [
      " 24%|███████████████▎                                                | 6/25 [01:14<03:46, 11.90s/it]"
     ]
    },
    {
     "name": "stdout",
     "output_type": "stream",
     "text": [
      "----------------------------------------------\n",
      "Loss: 0.026520590957208948\n",
      "a: 0.6\n",
      "Gradient of a: 0.39889038\n",
      "b: 0.75\n",
      "Gradient of b: -0.24144375\n",
      "----------------------------------------------\n"
     ]
    },
    {
     "name": "stderr",
     "output_type": "stream",
     "text": [
      " 28%|█████████████████▉                                              | 7/25 [01:24<03:24, 11.34s/it]"
     ]
    },
    {
     "name": "stdout",
     "output_type": "stream",
     "text": [
      "----------------------------------------------\n",
      "Loss: 0.00581758212770694\n",
      "a: 0.6\n",
      "Gradient of a: 0.1368525\n",
      "b: 0.85\n",
      "Gradient of b: -0.11782146\n",
      "----------------------------------------------\n"
     ]
    },
    {
     "name": "stderr",
     "output_type": "stream",
     "text": [
      " 32%|████████████████████▍                                           | 8/25 [01:36<03:15, 11.50s/it]"
     ]
    },
    {
     "name": "stdout",
     "output_type": "stream",
     "text": [
      "----------------------------------------------\n",
      "Loss: 0.011258236097645317\n",
      "a: 0.6\n",
      "Gradient of a: -0.29349053\n",
      "b: 0.95\n",
      "Gradient of b: 0.24583289\n",
      "----------------------------------------------\n"
     ]
    },
    {
     "name": "stderr",
     "output_type": "stream",
     "text": [
      " 36%|███████████████████████                                         | 9/25 [01:48<03:07, 11.69s/it]"
     ]
    },
    {
     "name": "stdout",
     "output_type": "stream",
     "text": [
      "----------------------------------------------\n",
      "Loss: 0.053821375298290126\n",
      "a: 0.6\n",
      "Gradient of a: -0.7706852\n",
      "b: 1.05\n",
      "Gradient of b: 0.58530134\n",
      "----------------------------------------------\n"
     ]
    },
    {
     "name": "stderr",
     "output_type": "stream",
     "text": [
      " 40%|█████████████████████████▏                                     | 10/25 [02:00<02:54, 11.66s/it]"
     ]
    },
    {
     "name": "stdout",
     "output_type": "stream",
     "text": [
      "----------------------------------------------\n",
      "Loss: 0.1288398217987496\n",
      "a: 0.6\n",
      "Gradient of a: -1.3667951\n",
      "b: 1.15\n",
      "Gradient of b: 0.9418272\n",
      "----------------------------------------------\n"
     ]
    },
    {
     "name": "stderr",
     "output_type": "stream",
     "text": [
      " 44%|███████████████████████████▋                                   | 11/25 [02:11<02:42, 11.63s/it]"
     ]
    },
    {
     "name": "stdout",
     "output_type": "stream",
     "text": [
      "----------------------------------------------\n",
      "Loss: 0.0916501453784122\n",
      "a: 0.7\n",
      "Gradient of a: 0.9597322\n",
      "b: 0.75\n",
      "Gradient of b: -0.43933606\n",
      "----------------------------------------------\n"
     ]
    },
    {
     "name": "stderr",
     "output_type": "stream",
     "text": [
      " 48%|██████████████████████████████▏                                | 12/25 [02:22<02:27, 11.34s/it]"
     ]
    },
    {
     "name": "stdout",
     "output_type": "stream",
     "text": [
      "----------------------------------------------\n",
      "Loss: 0.04444207609755797\n",
      "a: 0.7\n",
      "Gradient of a: 0.65606385\n",
      "b: 0.85\n",
      "Gradient of b: -0.455839\n",
      "----------------------------------------------\n"
     ]
    },
    {
     "name": "stderr",
     "output_type": "stream",
     "text": [
      " 52%|████████████████████████████████▊                              | 13/25 [02:33<02:14, 11.22s/it]"
     ]
    },
    {
     "name": "stdout",
     "output_type": "stream",
     "text": [
      "----------------------------------------------\n",
      "Loss: 0.01052543879616896\n",
      "a: 0.7\n",
      "Gradient of a: 0.26596713\n",
      "b: 0.95\n",
      "Gradient of b: -0.18750733\n",
      "----------------------------------------------\n"
     ]
    },
    {
     "name": "stderr",
     "output_type": "stream",
     "text": [
      " 56%|███████████████████████████████████▎                           | 14/25 [02:45<02:05, 11.41s/it]"
     ]
    },
    {
     "name": "stdout",
     "output_type": "stream",
     "text": [
      "----------------------------------------------\n",
      "Loss: 0.010075730536610464\n",
      "a: 0.7\n",
      "Gradient of a: -0.1452767\n",
      "b: 1.05\n",
      "Gradient of b: 0.16881259\n",
      "----------------------------------------------\n"
     ]
    },
    {
     "name": "stderr",
     "output_type": "stream",
     "text": [
      " 60%|█████████████████████████████████████▊                         | 15/25 [02:56<01:52, 11.28s/it]"
     ]
    },
    {
     "name": "stdout",
     "output_type": "stream",
     "text": [
      "----------------------------------------------\n",
      "Loss: 0.039182116309735615\n",
      "a: 0.7\n",
      "Gradient of a: -0.5119208\n",
      "b: 1.15\n",
      "Gradient of b: 0.40343678\n",
      "----------------------------------------------\n"
     ]
    },
    {
     "name": "stderr",
     "output_type": "stream",
     "text": [
      " 64%|████████████████████████████████████████▎                      | 16/25 [03:08<01:43, 11.45s/it]"
     ]
    },
    {
     "name": "stdout",
     "output_type": "stream",
     "text": [
      "----------------------------------------------\n",
      "Loss: 0.23479366277875405\n",
      "a: 0.79999995\n",
      "Gradient of a: 2.0093794\n",
      "b: 0.75\n",
      "Gradient of b: -0.760103\n",
      "----------------------------------------------\n"
     ]
    },
    {
     "name": "stderr",
     "output_type": "stream",
     "text": [
      " 68%|██████████████████████████████████████████▊                    | 17/25 [03:18<01:30, 11.26s/it]"
     ]
    },
    {
     "name": "stdout",
     "output_type": "stream",
     "text": [
      "----------------------------------------------\n",
      "Loss: 0.1476636888328074\n",
      "a: 0.79999995\n",
      "Gradient of a: 1.4952021\n",
      "b: 0.85\n",
      "Gradient of b: -0.9139773\n",
      "----------------------------------------------\n"
     ]
    },
    {
     "name": "stderr",
     "output_type": "stream",
     "text": [
      " 72%|█████████████████████████████████████████████▎                 | 18/25 [03:31<01:21, 11.71s/it]"
     ]
    },
    {
     "name": "stdout",
     "output_type": "stream",
     "text": [
      "----------------------------------------------\n",
      "Loss: 0.0671328919468098\n",
      "a: 0.79999995\n",
      "Gradient of a: 0.9091927\n",
      "b: 0.95\n",
      "Gradient of b: -0.6507309\n",
      "----------------------------------------------\n"
     ]
    },
    {
     "name": "stderr",
     "output_type": "stream",
     "text": [
      " 76%|███████████████████████████████████████████████▉               | 19/25 [03:41<01:07, 11.26s/it]"
     ]
    },
    {
     "name": "stdout",
     "output_type": "stream",
     "text": [
      "----------------------------------------------\n",
      "Loss: 0.022110961124365322\n",
      "a: 0.79999995\n",
      "Gradient of a: 0.39828745\n",
      "b: 1.05\n",
      "Gradient of b: -0.24271986\n",
      "----------------------------------------------\n"
     ]
    },
    {
     "name": "stderr",
     "output_type": "stream",
     "text": [
      " 80%|██████████████████████████████████████████████████▍            | 20/25 [03:50<00:51, 10.38s/it]"
     ]
    },
    {
     "name": "stdout",
     "output_type": "stream",
     "text": [
      "----------------------------------------------\n",
      "Loss: 0.015376514029236328\n",
      "a: 0.79999995\n",
      "Gradient of a: 0.010246691\n",
      "b: 1.15\n",
      "Gradient of b: 0.068684645\n",
      "----------------------------------------------\n"
     ]
    },
    {
     "name": "stderr",
     "output_type": "stream",
     "text": [
      " 84%|████████████████████████████████████████████████████▉          | 21/25 [03:58<00:39,  9.90s/it]"
     ]
    },
    {
     "name": "stdout",
     "output_type": "stream",
     "text": [
      "----------------------------------------------\n",
      "Loss: 0.5188423362809416\n",
      "a: 0.9\n",
      "Gradient of a: 3.812666\n",
      "b: 0.75\n",
      "Gradient of b: -1.2343118\n",
      "----------------------------------------------\n"
     ]
    },
    {
     "name": "stderr",
     "output_type": "stream",
     "text": [
      " 88%|███████████████████████████████████████████████████████▍       | 22/25 [04:08<00:29,  9.70s/it]"
     ]
    },
    {
     "name": "stdout",
     "output_type": "stream",
     "text": [
      "----------------------------------------------\n",
      "Loss: 0.3670931601501298\n",
      "a: 0.9\n",
      "Gradient of a: 3.0357466\n",
      "b: 0.85\n",
      "Gradient of b: -1.7113459\n",
      "----------------------------------------------\n"
     ]
    },
    {
     "name": "stderr",
     "output_type": "stream",
     "text": [
      " 92%|█████████████████████████████████████████████████████████▉     | 23/25 [04:18<00:19,  9.76s/it]"
     ]
    },
    {
     "name": "stdout",
     "output_type": "stream",
     "text": [
      "----------------------------------------------\n",
      "Loss: 0.2076942765739608\n",
      "a: 0.9\n",
      "Gradient of a: 2.012705\n",
      "b: 0.95\n",
      "Gradient of b: -1.3833747\n",
      "----------------------------------------------\n"
     ]
    },
    {
     "name": "stderr",
     "output_type": "stream",
     "text": [
      " 96%|████████████████████████████████████████████████████████████▍  | 24/25 [04:27<00:09,  9.79s/it]"
     ]
    },
    {
     "name": "stdout",
     "output_type": "stream",
     "text": [
      "----------------------------------------------\n",
      "Loss: 0.09737076717903129\n",
      "a: 0.9\n",
      "Gradient of a: 1.1731608\n",
      "b: 1.05\n",
      "Gradient of b: -0.81931436\n",
      "----------------------------------------------\n"
     ]
    },
    {
     "name": "stderr",
     "output_type": "stream",
     "text": [
      "100%|███████████████████████████████████████████████████████████████| 25/25 [04:39<00:00, 11.19s/it]"
     ]
    },
    {
     "name": "stdout",
     "output_type": "stream",
     "text": [
      "----------------------------------------------\n",
      "Loss: 0.042017421671132295\n",
      "a: 0.9\n",
      "Gradient of a: 0.5568972\n",
      "b: 1.15\n",
      "Gradient of b: -0.31287435\n",
      "----------------------------------------------\n"
     ]
    },
    {
     "name": "stderr",
     "output_type": "stream",
     "text": [
      "\n"
     ]
    }
   ],
   "source": [
    "# Set the optimizer\n",
    "optimizer = torch.optim.Adam(RSA.weight_nexus.parameters(), lr=learning_rate)\n",
    "#optimizer = torch.optim.SGD(macroscopic_trainer.weight_nexus.parameters(), lr=learning_rate)\n",
    "\n",
    "# Generate gradients\n",
    "a_b_gradients, loss_grid = RSA.RSA_flow(optimizer, a_b_init)"
   ]
  },
  {
   "cell_type": "markdown",
   "metadata": {},
   "source": [
    "### Flow map\n",
    "Now that we have a grid over the $(a,b)$-plane we can visualize the loss landscape. Below the red dot represents the base parameterization from which all other points are reweighed from. The green start is the target parameterization where the loss function (in this case the psuedo-$\\chi^2$) should be at a minimum. The arrow represent the gradients of $a$ and $b$ at each grid point."
   ]
  },
  {
   "cell_type": "code",
   "execution_count": 19,
   "metadata": {},
   "outputs": [
    {
     "data": {
      "image/png": "[encoded data removed]",
      "text/plain": [
       "<Figure size 600x500 with 2 Axes>"
      ]
     },
     "metadata": {},
     "output_type": "display_data"
    }
   ],
   "source": [
    "# Clone a_b_init into numpy array\n",
    "a_b = a_b_init.detach().numpy()\n",
    "\n",
    "import matplotlib.pyplot as plt\n",
    "import matplotlib.colors as mcolors\n",
    "\n",
    "# Calculate the magnitude of each vector in a_b_gradients\n",
    "magnitudes = np.linalg.norm(a_b_gradients, axis=1)\n",
    "\n",
    "fig, ax = plt.subplots(1,1,figsize=(6,5))\n",
    "\n",
    "# Set the background color based on the magnitude\n",
    "# Normalize the magnitude to use it with the colormap\n",
    "norm = mcolors.Normalize(vmin=np.min(magnitudes), vmax=np.max(magnitudes))\n",
    "cmap = plt.cm.plasma  # Choose a colormap\n",
    "\n",
    "# Assuming magnitudes can be reshaped into a grid directly for simplicity\n",
    "# In a real scenario, you might need to interpolate these values onto a grid\n",
    "grid_shape = (int(np.sqrt(len(magnitudes))), int(np.sqrt(len(magnitudes))))\n",
    "magnitudes_grid = magnitudes.reshape(grid_shape).T\n",
    "\n",
    "# Create a heatmap of the gradient magnitudes\n",
    "#heatmap = ax.imshow(magnitudes_grid, cmap=cmap, norm=norm, origin='lower', extent=(np.min(a_b[:, 0]), np.max(a_b[:, 0]), np.min(a_b[:, 1]), np.max(a_b[:, 1])))\n",
    "heatmap = ax.imshow(np.log10((loss_grid * N_events)).reshape(grid_shape).T, cmap=cmap, origin='lower', extent=(np.min(a_b[:, 0]), np.max(a_b[:, 0]), np.min(a_b[:, 1]), np.max(a_b[:, 1])))\n",
    "\n",
    "# Add a colorbar to show the magnitude scale\n",
    "fig.colorbar(heatmap, ax=ax, label=r'$\\log \\left(\\mathcal{L}_{\\chi^2}[\\{ N_h \\}]\\right)$', shrink=0.75)\n",
    "\n",
    "# Plot arrows for each point and direction\n",
    "for point, gradient in zip(a_b, a_b_gradients):\n",
    "    ax.arrow(point[0], point[1], -gradient[0]/5e1, -gradient[1]/5e1, head_width=0.005, head_length=0.005, fc='k', ec='k')\n",
    "\n",
    "a_b_target = np.array([0.68, 0.98]) # Monash\n",
    "ax.plot(a_b_target[0], a_b_target[1], '*', color='green', label = 'Target', ms = 6, linewidth=10)\n",
    "ax.plot(RSA.params_base[0].clone().detach().numpy(), RSA.params_base[1].clone().detach().numpy(), 'o', color = 'red', label = 'Base', ms = 5, linewidth=10)\n",
    "\n",
    "ax.set_title(rf'$N_{{\\mathrm{{batch}}}} = {N_events}$')\n",
    "ax.set_xlabel(r'$a$')\n",
    "ax.set_ylabel(r'$b$')\n",
    "\n",
    "fig.tight_layout()"
   ]
  },
  {
   "cell_type": "code",
   "execution_count": null,
   "metadata": {},
   "outputs": [],
   "source": []
  }
 ],
 "metadata": {
  "kernelspec": {
   "display_name": "hadronization_mlrw",
   "language": "python",
   "name": "python3"
  },
  "language_info": {
   "codemirror_mode": {
    "name": "ipython",
    "version": 3
   },
   "file_extension": ".py",
   "mimetype": "text/x-python",
   "name": "python",
   "nbconvert_exporter": "python",
   "pygments_lexer": "ipython3",
   "version": "3.12.4"
  }
 },
 "nbformat": 4,
 "nbformat_minor": 2
}
