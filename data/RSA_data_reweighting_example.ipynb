{
 "cells": [
  {
   "cell_type": "code",
   "execution_count": 3,
   "id": "679f0c06-fd6f-4905-95b4-bffb2a7cf113",
   "metadata": {},
   "outputs": [],
   "source": [
    "import numpy as np\n",
    "import matplotlib.pyplot as plt\n",
    "import torch\n",
    "from torch import nn"
   ]
  },
  {
   "cell_type": "markdown",
   "id": "d2dbf9db-2995-4baa-b2a0-3c195f2e76c7",
   "metadata": {},
   "source": [
    "### Reweighting"
   ]
  },
  {
   "cell_type": "markdown",
   "id": "7269a049-1d73-42a9-aa1f-9d38b354dbf6",
   "metadata": {},
   "source": [
    "An example of the training data, consisting of $N$ hadronization events (in the dataset below $N = 10,000$), is:\n",
    "$$\n",
    "\\boldsymbol{z} = \n",
    "  \\begin{pmatrix}\n",
    "    \\boldsymbol{z}_1 = \n",
    "    \\begin{pmatrix} \n",
    "        \\big\\{ m_T^{h_1}, z^{h_1}_{\\text{accept}}, z^{1, h_1}_{\\text{reject}}, z^{2, h_1}_{\\text{reject}}, \\cdots, \t\t\t\t\t\t\t\t\t  z^{n_{h_1}, h_1}_{\\text{reject}}\\big\\} \\\\\n",
    "        \\big\\{ m_T^{h_2}, z^{h_2}_{\\text{accept}}, z^{1, h_2}_{\\text{reject}}, z^{2, h_2}_{\\text{reject}}, \\cdots, z^{n_{h_2}, h_2}_{\\text{reject}} \\big\\} \\\\\t\n",
    "        \\big\\{ m_T^{h_3}, z^{h_3}_{\\text{accept}}, z^{1, h_3}_{\\text{reject}}, z^{2, h_3}_{\\text{reject}}, \\cdots, z^{n_{h_3}, h_3}_{\\text{reject}} \\big\\} \n",
    "        \\end{pmatrix}_1 \\\\\n",
    "    \\boldsymbol{z}_2 = \n",
    "    \\begin{pmatrix} \n",
    "      \\big\\{ m_T^{h_1}, z^{h_1}_{\\text{accept}}, z^{1, h_1}_{\\text{reject}}, z^{2, h_1}_{\\text{reject}}, \\cdots, z^{n_{h_1}, h_1}_{\\text{reject}}\\big\\} \\\\\n",
    "      \\vdots \\\\\t\n",
    "      \\big\\{ m_T^{h_4}, z^{h_4}_{\\text{accept}}, z^{1, h_4}_{\\text{reject}}, z^{2, h_4}_{\\text{reject}}, \\cdots, z^{n_{h_4}, h_4}_{\\text{reject}} \\big\\} \n",
    "      \\end{pmatrix}_2 \\\\\n",
    "      \\vdots \\\\\n",
    "    \\boldsymbol{z}_N = \\cdots\n",
    "  \\end{pmatrix},\n",
    "$$\n",
    "$$\n",
    "\\boldsymbol{y}_\\text{sim} = \n",
    "  \\begin{pmatrix}\n",
    "    \\boldsymbol{y}_1 = N_{h,1} = 3\\\\\n",
    "    \\boldsymbol{y}_2 = N_{h,2} = 4 \\\\\n",
    "    \\vdots \\\\\n",
    "    \\boldsymbol{y}_N = N_{h,N} = 2\n",
    "\\end{pmatrix}\n",
    "$$\n",
    "Note that each array $\\boldsymbol{z}_i$ is zero-padded to a fixed length of size $105$ and each accept-reject array is zero-padded to a fixed length of size $101$ (the maximum number of rejections is 100)."
   ]
  },
  {
   "cell_type": "code",
   "execution_count": null,
   "id": "bb28ef84-c1a3-4a9d-a0be-c2283b994728",
   "metadata": {},
   "outputs": [],
   "source": [
    "# Load accept-reject and hadron data at (a = 0.72, b = 0.88, sigma = 0.335, N = 1e4) \n",
    "accept_reject_monash_prime_PATH = './posthoc_data/pgun_qqbar_mT2_accept_reject_a_0.72_b_0.88_sigma_0.335_N_1e4.npy'\n",
    "pgun_accept_reject_monash_prime = np.load(accept_reject_monash_prime_PATH, mmap_mode = \"r\")\n",
    "\n",
    "fPrel_monash_prime_PATH = './posthoc_data/pgun_qqbar_fPrel_a_0.72_b_0.88_sigma_0.335_N_1e4.npy'\n",
    "pgun_fPrel_monash_prime = np.load(fPrel_monash_prime_PATH, mmap_mode = \"r\")\n",
    "\n",
    "filename_hadrons_monash_prime = './posthoc_data/pgun_qqbar_hadrons_a_0.72_b_0.88_sigma_0.335_N_1e4.npy'\n",
    "pgun_hadrons_monash_prime = np.load(filename_hadrons_monash_prime, mmap_mode=\"r\")\n",
    "\n",
    "# Load the hadron data from Monash for comparison (a = 0.68, b = 0.98, sigma = 0.335, N = 1e4)\n",
    "filename_hadrons_monash = './posthoc_data/pgun_qqbar_hadrons_a_0.68_b_0.98_sigma_0.335_N_1e4.npy'\n",
    "pgun_hadrons_monash = np.load(filename_hadrons_monash, mmap_mode=\"r\")"
   ]
  },
  {
   "cell_type": "code",
   "execution_count": null,
   "id": "2d8d8a5f-d6b6-404e-9333-af98545c92ae",
   "metadata": {},
   "outputs": [
    {
     "name": "stdout",
     "output_type": "stream",
     "text": [
      "Accepted and rejected z data shape (Monash'): (10000, 105, 101)\n",
      "Hadron data shape (Monash'): (10000, 75, 5)\n"
     ]
    }
   ],
   "source": [
    "# Check the shapes\n",
    "print(\"Accepted and rejected z data shape (Monash'):\", pgun_accept_reject_monash_prime.shape)\n",
    "print(\"Hadron data shape (Monash'):\", pgun_hadrons_monash_prime.shape)"
   ]
  },
  {
   "cell_type": "code",
   "execution_count": null,
   "id": "a47f6fae-ffc1-47eb-802a-6a80a9960660",
   "metadata": {},
   "outputs": [
    {
     "data": {
      "image/png": "[encoded data removed]",
      "text/plain": [
       "<Figure size 600x500 with 1 Axes>"
      ]
     },
     "metadata": {},
     "output_type": "display_data"
    }
   ],
   "source": [
    "# Histrogram accepted z-values across all events\n",
    "fig, ax = plt.subplots(1,1,figsize=(6,5))\n",
    "ax.hist(pgun_accept_reject_monash_prime[:,:,1][pgun_accept_reject_monash_prime[:,:,1] > 0.0], 100, alpha = 0.5, density = True, label = r\"$\\mathrm{Monash'}$ $(a = 0.72, b = 0.88)$\")\n",
    "ax.set_xlabel(r'$z_{\\mathrm{accept}}$')\n",
    "ax.set_ylabel(r'$\\mathrm{PDF}$')\n",
    "ax.legend(frameon = False)\n",
    "fig.tight_layout()"
   ]
  },
  {
   "cell_type": "code",
   "execution_count": null,
   "id": "c2014522-7773-4e90-a9e3-4bc0d076e7ff",
   "metadata": {},
   "outputs": [],
   "source": [
    "Nevent = 10000\n",
    "# Collect multiplicity data\n",
    "mult_monash = np.array([len(pgun_hadrons_monash[i,:][np.abs(pgun_hadrons_monash[i,:,0]) > 0.0]) for i in range(Nevent)])\n",
    "mult_monash_prime = np.array([len(pgun_hadrons_monash_prime[i,:][np.abs(pgun_hadrons_monash_prime[i,:,0]) > 0.0]) for i in range(Nevent)])"
   ]
  },
  {
   "cell_type": "code",
   "execution_count": null,
   "id": "92e38c94",
   "metadata": {},
   "outputs": [
    {
     "name": "stdout",
     "output_type": "stream",
     "text": [
      "(50000,)\n",
      "(50000,)\n",
      "(50000,)\n"
     ]
    }
   ],
   "source": [
    "print(mult_monash.shape)\n",
    "print(mult_monash_prime.shape)"
   ]
  },
  {
   "cell_type": "code",
   "execution_count": 11,
   "id": "5277b804-0437-4fc5-9c4f-7fab08941c61",
   "metadata": {},
   "outputs": [
    {
     "name": "stdout",
     "output_type": "stream",
     "text": [
      "3.0 28.0\n",
      "2.0 29.0\n"
     ]
    },
    {
     "data": {
      "image/png": "[encoded data removed]",
      "text/plain": [
       "<Figure size 600x500 with 1 Axes>"
      ]
     },
     "metadata": {},
     "output_type": "display_data"
    }
   ],
   "source": [
    "# Histrogram hadron multiplicity\n",
    "fig, ax = plt.subplots(1,1,figsize=(6,5))\n",
    "\n",
    "_, bins_monash = np.histogram(mult_monash)\n",
    "_, bins_monash_prime = np.histogram(mult_monash_prime)\n",
    "\n",
    "min_monash, max_monash = bins_monash[0], bins_monash[-1]\n",
    "min_monash_prime, max_monash_prime = bins_monash_prime[0], bins_monash_prime[-1]\n",
    "\n",
    "print(min_monash, max_monash)\n",
    "print(min_monash_prime, max_monash_prime)\n",
    "\n",
    "min = np.min([min_monash, min_monash_prime])\n",
    "max = np.max([max_monash, max_monash_prime])\n",
    "\n",
    "bins = np.linspace(min, max, int((max - min)+1))\n",
    "\n",
    "counts, _, _ = ax.hist(mult_monash, bins, alpha = 0.5, density = False, label = r'$\\mathrm{Monash}$ $(a = 0.68, b = 0.98)$')\n",
    "ax.hist(mult_monash_prime, bins = bins, alpha = 0.5, density = False, label = r\"$\\mathrm{Monash'}$ $(a = 0.72, b = 0.88)$\")\n",
    "ax.set_xlabel(r'$N_h$')\n",
    "ax.set_ylabel(r'$\\mathrm{PDF}$')\n",
    "ax.legend(frameon = False)\n",
    "fig.tight_layout()"
   ]
  },
  {
   "cell_type": "markdown",
   "id": "d5d21aa9-cd19-46e0-8c57-c6522f8c7f34",
   "metadata": {},
   "source": [
    "The reweighting module computes a weight array, given the base $B$ and perturbed $P$ parameterizations, according to \n",
    "$$\n",
    "\\boldsymbol{w} = \\begin{pmatrix}\n",
    "    w_1 \\\\\n",
    "    w_2 \\\\\n",
    "    \\vdots \\\\\n",
    "    w_N\n",
    "  \\end{pmatrix}, \\text{ where } \\\\\n",
    "  w_n = \\prod_{i = 1}^{N_{h,n}} \\left(\\frac{f(z^{h_i}_\\text{accept}; \\{a, b\\}_P)}{f(z^{h_i}_\\text{accept}; \\{a, b\\}_{B})}\\right)\n",
    "  \\prod_{j = 1}^{n_{h_i}} \\left(\\frac{\\hat{f} - f(z^{j, h_i}_\\text{reject}; \\{a, b\\}_P)}{\\hat{f} - f(z^{j, h_i}_\\text{reject}; \\{a, b\\}_{B}}\\right)\n",
    "$$\n",
    "where $\\hat{f}$ is the oversampling factor associated with the sampling of $z$ (here the over-sampling factor is 10). For each event, the accepcted and rejected $z$-values as well as the transverse mass $m_T^2 = p_x^2 + p_y^2 + m^2$ of each hadron is required to compute the event weight."
   ]
  },
  {
   "cell_type": "code",
   "execution_count": 12,
   "id": "966c359c-af0b-485c-8b5e-e300b4e201ae",
   "metadata": {},
   "outputs": [],
   "source": [
    "class LundWeight(nn.Module):\n",
    "    def __init__(self, params_base, params, over_sample_factor):\n",
    "        super(LundWeight, self).__init__()\n",
    "        self.params_base = params_base\n",
    "        self.params_a = torch.nn.Parameter(params[0].clone(), requires_grad=True)\n",
    "        self.params_b = torch.nn.Parameter(params[1].clone(), requires_grad=True)\n",
    "        self.over_sample_factor = over_sample_factor\n",
    "\n",
    "        self.AFROMZERO = 0.02\n",
    "        self.EXPMAX = 50.\n",
    "        self.AFROMC = 0.01\n",
    "    \n",
    "    def zMaxCalc(self, a, b, c):\n",
    "        # Normalization for Lund fragmentation function so that f <= 1.\n",
    "        # Special cases for a = 0 and a = c.\n",
    "        aIsZero = (a < self.AFROMZERO)\n",
    "        aIsC = (torch.abs(a - c) < self.AFROMC)\n",
    "        # Determine position of maximum.\n",
    "        if aIsZero:\n",
    "            return b / c if c > b else 1.\n",
    "        elif aIsC:\n",
    "            return b / (b + c)\n",
    "        else:\n",
    "            zMax = 0.5 * (b + c - torch.sqrt(torch.pow(b - c, 2) + 4 * a * b)) / (c - a)\n",
    "            if torch.isnan(zMax).any():\n",
    "                print('zMax_1', zMax)\n",
    "                print('a', a, 'b', b, 'c', c)\n",
    "                exit()\n",
    "\n",
    "            # Adjust zMax in numerically unstable regions \n",
    "            zMax = torch.where((zMax > 0.9999) & (b > 100.), torch.min(zMax, 1. - a / b), zMax)\n",
    "            return zMax\n",
    "    \n",
    "    def likelihood(self, z, mT, a, b, c = torch.tensor(1., requires_grad=True), z_mask = None, mT_mask = None):\n",
    "        \"\"\"\n",
    "        Compute the likelihood of the Lund fragmentation function\n",
    "\n",
    "        Args:\n",
    "            z (torch.Tensor): Input tensor\n",
    "            mT (torch.Tensor): Transverse mass tensor (can be different shape from z)\n",
    "            a (torch.Tensor): Parameter a\n",
    "            b (torch.Tensor): Parameter b\n",
    "            c (torch.Tensor): Parameter c (default: torch.tensor(1., requires_grad=True))\n",
    "            z_mask (torch.Tensor, optional): Boolean mask tensor for z (default: None)\n",
    "            mT_mask (torch.Tensor, optional): Boolean mask tensor for mT (default: None)\n",
    "\n",
    "        Returns:\n",
    "            likelihood (torch.Tensor): Computed likelihood values (shape determined by broadcasting rules)\n",
    "        \"\"\"\n",
    "\n",
    "        # Determine the shape after broadcasting\n",
    "        broadcast_shape = torch.broadcast_shapes(z.shape, mT.shape)\n",
    "\n",
    "        # If no masks are provided, consider all elements\n",
    "        if z_mask is None:\n",
    "            z_mask = torch.ones(z.shape, dtype=torch.bool, device=z.device)\n",
    "        if mT_mask is None:\n",
    "            mT_mask = torch.ones(mT.shape, dtype=torch.bool, device=mT.device)\n",
    "\n",
    "        # Broadcast z, mT, and their masks to the common shape\n",
    "        z_broad = z.expand(broadcast_shape)\n",
    "        mT_broad = mT.expand(broadcast_shape)\n",
    "        z_mask_broad = z_mask.expand(broadcast_shape)\n",
    "        mT_mask_broad = mT_mask.expand(broadcast_shape)\n",
    "    \n",
    "        # Combine masks\n",
    "        combined_mask = z_mask_broad & mT_mask_broad\n",
    "        \n",
    "        # Create a tensor to store the results, initialized with zeros\n",
    "        likelihood = torch.zeros(broadcast_shape, dtype=z.dtype, device=z.device)\n",
    "    \n",
    "        # Only perform calculations on unmasked elements\n",
    "        z_unmasked = z_broad[combined_mask]\n",
    "        mT_unmasked = mT_broad[combined_mask]\n",
    "    \n",
    "        # Check if we have any unmasked elements to process\n",
    "        if z_unmasked.numel() > 0:\n",
    "            # Adjust b-parameter\n",
    "            b_exp = b * mT_unmasked\n",
    "            \n",
    "            # Special case for a = 0.\n",
    "            aIsZero = (a < self.AFROMZERO)\n",
    "            \n",
    "            # Determine position of maximum.\n",
    "            zMax = self.zMaxCalc(a, b_exp, c)\n",
    "            \n",
    "            # Be careful of -inf values in aCoeff, very nasty bug to find.\n",
    "            aCoef = torch.log(1. - z_unmasked) - torch.log(1. - zMax)\n",
    "            if torch.isneginf(aCoef).any():\n",
    "                print('aCoef is returning -inf value, please check that all z < 1.')\n",
    "                print('aCoeff', aCoef)\n",
    "    \n",
    "            bCoef = (1. / zMax) - (1. / z_unmasked)\n",
    "            cCoef = torch.log(zMax) - torch.log(z_unmasked)\n",
    "            fExp = b_exp * bCoef + c * cCoef\n",
    "            \n",
    "            # Special cases for a = 0.\n",
    "            if ~aIsZero:\n",
    "                fExp = fExp + a * aCoef\n",
    "            \n",
    "            # Feed through numerical stabilizer\n",
    "            fVal = torch.exp(torch.clamp(fExp, min=-self.EXPMAX, max=self.EXPMAX))\n",
    "            \n",
    "            # Assign computed values back to the likelihood tensor\n",
    "            likelihood[combined_mask] = fVal\n",
    "        \n",
    "        return likelihood\n",
    "\n",
    "    def forward(self, z, fPrel):\n",
    "        \"\"\"\n",
    "        Forward pass of the weight module -- consists of computing the event weights for a given batch\n",
    "        of training data.\n",
    "        \"\"\"\n",
    "        batch_size = z.shape[0]\n",
    "        weights = torch.ones(batch_size)\n",
    "\n",
    "        # Extract the mT2 values \n",
    "        mT2 = z[:, :, 0]\n",
    "        # Reshape into column tensor\n",
    "        mT2 = mT2.view(mT2.shape[0], mT2.shape[1], 1)\n",
    "        # Create a mask for zero values\n",
    "        mT2_mask = mT2 != 0.\n",
    "\n",
    "        # Extract the accepted z values\n",
    "        z_accept = z[:, :, 1]\n",
    "        # Reshape into column tensor\n",
    "        z_accept = z_accept.view(z_accept.shape[0], z_accept.shape[1], 1)\n",
    "        # Remove any zero values\n",
    "        z_accept_mask = z_accept != 0.\n",
    "\n",
    "        # Extract the rejected z values\n",
    "        z_reject = z[:, :, 2:]\n",
    "        # Reshape into column tensor\n",
    "        z_reject = z_reject.view(z_reject.shape[0], z_reject.shape[1], z_reject.shape[2])\n",
    "        # Remove any zero values along the event index\n",
    "        z_reject_mask = z_reject != 0.\n",
    "\n",
    "        fPrel_reject = fPrel[:, :, 1:]\n",
    "        fPrel_reject = fPrel_reject.view(fPrel_reject.shape[0], fPrel_reject.shape[1], fPrel_reject.shape[2])\n",
    "        fPrel_reject_mask = fPrel_reject != 0.\n",
    "\n",
    "        # Compute the accept and reject weights\n",
    "        accept_weights = self.likelihood(z_accept, mT2, self.params_a, self.params_b, z_mask = z_accept_mask, mT_mask = mT2_mask) / self.likelihood(z_accept, mT2, self.params_base[0], self.params_base[1], z_mask = z_accept_mask, mT_mask = mT2_mask)    \n",
    "        reject_weights = ((self.over_sample_factor * (fPrel_reject * fPrel_reject_mask.masked_fill(z_accept_mask == 0, 1))) - self.likelihood(z_reject, mT2, self.params_a, self.params_b, z_mask = z_reject_mask, mT_mask = mT2_mask)) / ((self.over_sample_factor * (fPrel_reject * fPrel_reject_mask.masked_fill(z_accept_mask == 0, 1))) - self.likelihood(z_reject, mT2, self.params_base[0], self.params_base[1], z_mask = z_reject_mask, mT_mask = mT2_mask))\n",
    "\n",
    "        # Flatten the weights\n",
    "        accept_weights = (accept_weights * z_accept_mask).masked_fill(z_accept_mask == 0, 1).prod(dim=2).prod(dim=1)\n",
    "        reject_weights = (reject_weights * z_reject_mask).masked_fill(z_reject_mask == 0, 1).prod(dim=2).prod(dim=1)\n",
    "            \n",
    "        # The final event weight is the product of accepted and rejected weights\n",
    "        weights = accept_weights * reject_weights\n",
    "    \n",
    "        return weights"
   ]
  },
  {
   "cell_type": "code",
   "execution_count": null,
   "id": "a5c17151-1c04-4ffa-ae48-d350879708fc",
   "metadata": {},
   "outputs": [],
   "source": [
    "# Set base parameterization \n",
    "params_base_1 = torch.tensor([0.72, 0.88]) # Monash' (a,b)\n",
    "\n",
    "# Set parameters to reweiigh to (data)\n",
    "params_target = torch.tensor([0.68, 0.98]) # Monash (a,b)\n",
    "\n",
    "# Set the over sample factor (for the pgun_qqbar datasets this is 10.)\n",
    "over_sample_factor = 10.\n",
    "\n",
    "# Initialize the reweighting module\n",
    "reweighter = LundWeight(params_base_1, params_target, over_sample_factor = over_sample_factor)"
   ]
  },
  {
   "cell_type": "code",
   "execution_count": null,
   "id": "3243e0c1-6d77-41a6-92a8-b55505682d75",
   "metadata": {},
   "outputs": [],
   "source": [
    "# Consider a 'batch' consisting of 10,000 events\n",
    "nevents = 10000\n",
    "\n",
    "# Monash'\n",
    "pgun_accept_reject_monash_prime_torch = torch.from_numpy(pgun_accept_reject_monash_prime[0:nevents].copy())\n",
    "pgun_fPrel_monash_prime_torch = torch.from_numpy(pgun_fPrel_monash_prime[0:nevents].copy())\n",
    "\n",
    "# Check for values of 1 and correct\n",
    "epsilon = 1e-10\n",
    "# Monash'\n",
    "pgun_accept_reject_monash_prime_torch[pgun_accept_reject_monash_prime_torch == 1] -= epsilon\n",
    "pgun_mult_monash_prime_torch = torch.from_numpy(mult_monash_prime[0:nevents].copy())\n",
    "pgun_mult_monash_prime_torch = torch.reshape(pgun_mult_monash_prime_torch, (nevents,1))"
   ]
  },
  {
   "cell_type": "code",
   "execution_count": 16,
   "id": "9dc75322-c46c-421b-b6d6-69cfbbc72d25",
   "metadata": {},
   "outputs": [
    {
     "name": "stdout",
     "output_type": "stream",
     "text": [
      "torch.Size([10000, 105, 101])\n",
      "torch.Size([10000, 105, 100])\n",
      "torch.Size([10000, 1])\n"
     ]
    }
   ],
   "source": [
    "# Check the shapes\n",
    "print(pgun_accept_reject_monash_prime_torch.shape)\n",
    "print(pgun_fPrel_monash_prime_torch.shape)\n",
    "print(pgun_mult_monash_prime_torch.shape)"
   ]
  },
  {
   "cell_type": "code",
   "execution_count": 18,
   "id": "a2172f6a-7050-40b8-a9ad-95738925c2e1",
   "metadata": {},
   "outputs": [],
   "source": [
    "# Compute the weight array\n",
    "#torch.set_printoptions(threshold=100000, sci_mode=False)\n",
    "#torch.set_printoptions(profile='default')\n",
    "weights = reweighter.forward(pgun_accept_reject_monash_prime_torch, pgun_fPrel_monash_prime_torch)"
   ]
  },
  {
   "cell_type": "code",
   "execution_count": 19,
   "id": "8a389370",
   "metadata": {},
   "outputs": [
    {
     "name": "stdout",
     "output_type": "stream",
     "text": [
      "(10000,)\n",
      "[1.12693049 1.44607619 0.69629616 ... 0.79463173 1.416112   0.72541872]\n",
      "1 - mu: 0.001307191439642863\n",
      "Neff: 0.8570689943261898\n"
     ]
    }
   ],
   "source": [
    "# Compute the reweighting metrics\n",
    "print(weights.detach().numpy().shape)\n",
    "print(weights.detach().numpy())\n",
    "one_minus_mu = 1. - np.sum(weights.detach().numpy()) / len(weights.detach().numpy())\n",
    "Neff = (np.sum(weights.detach().numpy())**2 / np.sum(weights.detach().numpy()**2)) / len(weights.detach().numpy())\n",
    "print('1 - mu:', one_minus_mu)\n",
    "print('Neff:', Neff)"
   ]
  },
  {
   "cell_type": "code",
   "execution_count": null,
   "id": "1da818bc",
   "metadata": {},
   "outputs": [
    {
     "data": {
      "image/png": "[encoded data removed]",
      "text/plain": [
       "<Figure size 600x500 with 1 Axes>"
      ]
     },
     "metadata": {},
     "output_type": "display_data"
    }
   ],
   "source": [
    "# Check the reweighed multiplicity historgram\n",
    "fig, ax = plt.subplots(1,1,figsize=(6,5))\n",
    "\n",
    "counts, bins, _ = ax.hist(mult_monash_prime[0:nevents], bins = bins, alpha = 0.5, label = r\"$\\mathrm{Monash'}$ $(a = 0.72, b = 0.88)$\", color = 'tab:orange', density = True)\n",
    "ax.hist(mult_monash[0:nevents], bins = bins, alpha = 0.5, label = r'$\\mathrm{Monash}$ $(a = 0.68, b = 0.98)$', color = 'tab:blue', density = True)\n",
    "ax.hist(pgun_mult_monash_prime_torch.detach().numpy(), bins = bins, weights = weights.detach().numpy(), alpha = 0.5, label = r\"$\\mathrm{Reweighed}$ $(\\mathrm{Monash}' \\rightarrow \\mathrm{Monash})$\", color = 'tab:green', density = True)\n",
    "\n",
    "ax.text(1.0, 0.10, rf'$N_{{\\mathrm{{eff}}}} = {Neff:3f}$', fontsize = 10)\n",
    "ax.text(1.0, 0.095, rf'$1 - \\mu = {one_minus_mu:3f}$', fontsize = 10)\n",
    "\n",
    "ax.set_xlabel(r'$N_h$')\n",
    "ax.set_ylabel(r'$\\mathrm{PDF}$')\n",
    "ax.legend(frameon = False, fontsize = 'small')\n",
    "ax.set_title(r'$\\mathrm{Posthoc}$')\n",
    "fig.tight_layout()"
   ]
  },
  {
   "cell_type": "code",
   "execution_count": null,
   "id": "9c1fec53",
   "metadata": {},
   "outputs": [
    {
     "data": {
      "image/png": "[encoded data removed]",
      "text/plain": [
       "<Figure size 600x500 with 1 Axes>"
      ]
     },
     "metadata": {},
     "output_type": "display_data"
    }
   ],
   "source": [
    "# Check the distribution of weights\n",
    "fig, ax = plt.subplots(1,1,figsize=(6,5))\n",
    "ax.hist(weights.detach().numpy(), 100, alpha = 0.5, density=True)\n",
    "ax.set_xlabel(r'$w$')\n",
    "ax.set_ylabel(r'$\\mathrm{PDF}$')\n",
    "ax.set_xscale('log')\n",
    "ax.vlines(1., 0., 1., color = 'red', linestyle = '--')\n",
    "ax.set_title(r'$\\mathrm{Posthoc}$')\n",
    "fig.tight_layout()"
   ]
  },
  {
   "cell_type": "code",
   "execution_count": null,
   "id": "a891d96b-2f19-4501-ac06-62ca6d4ce7ea",
   "metadata": {},
   "outputs": [],
   "source": []
  }
 ],
 "metadata": {
  "kernelspec": {
   "display_name": "hadronization_mlrw",
   "language": "python",
   "name": "python3"
  },
  "language_info": {
   "codemirror_mode": {
    "name": "ipython",
    "version": 3
   },
   "file_extension": ".py",
   "mimetype": "text/x-python",
   "name": "python",
   "nbconvert_exporter": "python",
   "pygments_lexer": "ipython3",
   "version": "3.12.4"
  }
 },
 "nbformat": 4,
 "nbformat_minor": 5
}
